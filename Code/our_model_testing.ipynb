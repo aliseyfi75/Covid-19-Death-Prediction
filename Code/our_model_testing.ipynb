{
 "cells": [
  {
   "cell_type": "code",
   "execution_count": 1,
   "metadata": {},
   "outputs": [],
   "source": [
    "from Model.AutoRegressionModel import AutoRegressionModel as arm\n",
    "import numpy as np\n",
    "import pandas as pd"
   ]
  },
  {
   "cell_type": "code",
   "execution_count": 2,
   "metadata": {},
   "outputs": [],
   "source": [
    "training_df = pd.read_csv('phase1_training_data.csv')\n",
    "training_df['date'] = training_df['date'].astype('datetime64')\n",
    "validation_df_ca = pd.read_csv('phase_1_answer.csv')"
   ]
  },
  {
   "cell_type": "code",
   "execution_count": 3,
   "metadata": {},
   "outputs": [],
   "source": [
    "def filter_by_country(df, country_id):\n",
    "    return df[df['country_id'] == country_id]"
   ]
  },
  {
   "cell_type": "code",
   "execution_count": 4,
   "metadata": {},
   "outputs": [],
   "source": [
    "ca_train_df = filter_by_country(training_df, 'CA')[filter_by_country(training_df, 'CA')['date'] >= '2020-03-15']"
   ]
  },
  {
   "cell_type": "code",
   "execution_count": 29,
   "metadata": {},
   "outputs": [],
   "source": [
    "lag = 20\n",
    "model = arm(lag, bias=True, method=\"normal\")\n",
    "train_series = []\n",
    "train_series.append(ca_train_df[\"deaths\"].values)\n",
    "model.fit(train_series)"
   ]
  },
  {
   "cell_type": "code",
   "execution_count": 30,
   "metadata": {},
   "outputs": [],
   "source": [
    "pred_count = 11\n",
    "predictors = ca_train_df['deaths'].values[-lag:]\n",
    "\n",
    "for i in range(pred_count):\n",
    "    predictors = np.append(predictors, np.round(model.predict(predictors[-lag:], 1)).astype(int))\n",
    "\n",
    "final_answer = predictors[-pred_count:]"
   ]
  },
  {
   "cell_type": "code",
   "execution_count": 31,
   "metadata": {},
   "outputs": [
    {
     "data": {
      "text/plain": [
       "80.8989268385951"
      ]
     },
     "execution_count": 31,
     "metadata": {},
     "output_type": "execute_result"
    }
   ],
   "source": [
    "predictions = pd.DataFrame({\n",
    "    \"deaths\": validation_df_ca['deaths'].values, \n",
    "    \"deaths_pred\": final_answer\n",
    "})\n",
    "np.sqrt(np.mean((predictions['deaths'] - predictions['deaths_pred']).values ** 2))"
   ]
  },
  {
   "cell_type": "code",
   "execution_count": 34,
   "metadata": {},
   "outputs": [
    {
     "name": "stdout",
     "output_type": "stream",
     "text": [
      "0 a\n",
      "1 b\n",
      "2 c\n",
      "3 d\n"
     ]
    }
   ],
   "source": [
    "s = ['a', 'b', 'c', 'd']\n",
    "for index, ts in enumerate(s):\n",
    "    print(index, ts)"
   ]
  },
  {
   "cell_type": "code",
   "execution_count": null,
   "metadata": {},
   "outputs": [],
   "source": []
  }
 ],
 "metadata": {
  "kernelspec": {
   "display_name": "Python 3",
   "language": "python",
   "name": "python3"
  },
  "language_info": {
   "codemirror_mode": {
    "name": "ipython",
    "version": 3
   },
   "file_extension": ".py",
   "mimetype": "text/x-python",
   "name": "python",
   "nbconvert_exporter": "python",
   "pygments_lexer": "ipython3",
   "version": "3.8.5"
  }
 },
 "nbformat": 4,
 "nbformat_minor": 4
}
